{
 "cells": [
  {
   "cell_type": "code",
   "execution_count": 83,
   "metadata": {},
   "outputs": [
    {
     "name": "stdout",
     "output_type": "stream",
     "text": [
      "The snakeviz extension is already loaded. To reload it, use:\n",
      "  %reload_ext snakeviz\n"
     ]
    }
   ],
   "source": [
    "import numpy as np\n",
    "import perfplot\n",
    "from numba import njit\n",
    "from sklearn.datasets import make_regression\n",
    "import pandas as pd\n",
    "from scipy.linalg.blas import dgemm\n",
    "import scipy.linalg as sl\n",
    "%load_ext snakeviz\n"
   ]
  },
  {
   "cell_type": "code",
   "execution_count": 11,
   "metadata": {},
   "outputs": [],
   "source": [
    "#2\n",
    "#generating data for ols\n",
    "#np.random.seed(25)\n",
    "variables = 50\n",
    "nobs = 20000\n",
    "\n",
    "\n",
    "#def generate_data_ols(nobs, variables):\n",
    "    \n",
    "#    means = np.ones(variables)\n",
    "#    cov = np.eye(variables) + np.ones((variables, variables)) * 0.2\n",
    "#    x = np.random.multivariate_normal(mean=means, cov=cov, size=nobs)\n",
    "#    e = np.random.randn(nobs)\n",
    "#    true_beta = np.random.uniform(-0.99, 0.99, variables)\n",
    "#    y = x @ true_beta + e\n",
    "\n",
    "#    return x, y\n",
    "\n",
    "def generate_data_ols(nobs, variables):\n",
    "    x, y, coef = make_regression(n_samples=nobs, n_features=variables, n_informative=variables, \n",
    "                    effective_rank=None, noise=0.4, shuffle=True, coef=True, random_state=25)\n",
    "    return x, y, coef\n",
    "\n",
    "#next steps\n",
    "#add more implementations using factorisation and spicy\n",
    "#go on to timing and the other assignment and come back to put everything together\n",
    "#after all is done fix the other problems\n",
    "\n"
   ]
  },
  {
   "cell_type": "code",
   "execution_count": 12,
   "metadata": {},
   "outputs": [
    {
     "data": {
      "text/plain": [
       "(array([[ 6.53717255e-01, -2.86299195e+00,  4.49643557e-01, ...,\n",
       "         -8.03092092e-01,  1.81554710e+00,  9.34609956e-01],\n",
       "        [ 3.96684874e-02, -1.30676025e+00, -2.08085875e+00, ...,\n",
       "         -5.92928434e-01, -1.04328929e+00,  1.13565534e-01],\n",
       "        [ 4.43738703e-01, -2.87689834e+00,  2.16870842e-03, ...,\n",
       "          1.52404394e+00,  4.26721146e-01, -6.37186400e-01],\n",
       "        ...,\n",
       "        [ 8.77854741e-02,  7.21123808e-01, -1.84289771e-01, ...,\n",
       "          1.01052466e+00, -6.55915068e-01,  3.46075638e-02],\n",
       "        [ 9.76738329e-01,  1.91974900e-01, -7.52095211e-01, ...,\n",
       "         -1.78340734e+00,  4.41242680e-02, -1.56801849e+00],\n",
       "        [ 1.23997263e+00,  6.31279143e-01, -2.76662645e-01, ...,\n",
       "          2.76027227e+00, -1.66727037e+00, -3.12841244e-01]]),\n",
       " array([ 4.68705055e+01, -3.06675087e+02, -4.61400131e-01, ...,\n",
       "         3.90342302e+02,  6.28295735e+02, -5.80269603e+02]),\n",
       " array([12.89122851, 99.42609075, 39.69812146, 96.15839456, 13.16011288,\n",
       "        21.70198703, 69.90077722, 93.64787585, 32.57627339, 76.87538183,\n",
       "        67.17051949,  1.71173478,  8.29961497, 50.51727384, 30.8801197 ,\n",
       "        71.63775367,  2.70203845, 61.95242636, 88.2805731 , 30.39602829,\n",
       "        24.69770916, 23.34197033,  5.22653184, 61.66973706, 73.03757635,\n",
       "        49.22976901, 55.36097705, 79.62139063, 94.09166773,  4.82660582,\n",
       "        38.25696338, 40.11690131, 45.76783752, 76.49747149, 54.79452522,\n",
       "        77.66231386, 12.14354801, 25.80581079, 28.25936393, 50.8196175 ,\n",
       "        41.30377276, 64.13991716, 30.3279459 , 61.81667317, 53.20434887,\n",
       "        41.85279935, 55.85500872, 26.90955789, 89.08059596, 57.672932  ]))"
      ]
     },
     "execution_count": 12,
     "metadata": {},
     "output_type": "execute_result"
    }
   ],
   "source": [
    "x, y, coef = generate_data_ols(nobs, variables)\n",
    "x, y, coef"
   ]
  },
  {
   "cell_type": "code",
   "execution_count": 57,
   "metadata": {},
   "outputs": [],
   "source": [
    "\n",
    "\n",
    "\"\"\"Define different implementations of OLS using numpy and numpy and spicy.\n",
    "\n",
    "Each implementation returns the estimated parameter vector.\n",
    "\n",
    "\"\"\"\n",
    "#---------numpy implementations---------------\n",
    "#mathematical implemantation numpy\n",
    "@njit\n",
    "def matrix_inversion_np(x, y):\n",
    "    beta = np.linalg.inv(x.T.dot(x)).dot(x.T.dot(y))\n",
    "    return beta\n",
    "\n",
    "# least squares implementation numpy\n",
    "@njit\n",
    "def lstsq_np(x, y):\n",
    "    beta = np.linalg.lstsq(x, y)[0]\n",
    "    return beta\n",
    "\n",
    "#pseudo inverse implementation numpy\n",
    "@njit\n",
    "def pseudo_inverse_np(x, y):\n",
    "    beta = np.dot(np.linalg.pinv(x), y)\n",
    "    return beta\n",
    "\n",
    "# Solve a linear matrix equation, or system of linear scalar equations with numpy.\n",
    "# this is only valid if x has full rank which is not always the case.\n",
    "@njit\n",
    "def solve_np(x,y):\n",
    "    beta = np.linalg.solve(np.dot(x.T, x), np.dot(x.T, y))\n",
    "    return beta\n",
    "\n",
    "def lls_with_blas(x, y, residuals=False):\n",
    "    \"\"\"\n",
    "    https://gist.github.com/aldro61/5889795\n",
    "    \"\"\"\n",
    "    #a, b, coef = generate_data_ols(nobs, variables) - a, b are x, y\n",
    "    i = dgemm(alpha=1.0, a=a.T, b=a.T, trans_b=True)\n",
    "    beta = np.linalg.solve(i, dgemm(alpha=1.0, a=a.T, b=b)).flatten()\n",
    "    return beta\n",
    "\n",
    "#---------spicy implementations----------------\n",
    "#matrix multiplication implementation spicy\n",
    "#@njit\n",
    "def matrix_inversion_spicy(x, y):\n",
    "    beta = sl.inv(x.T.dot(x)).dot(x.T.dot(y))\n",
    "    return beta\n",
    "\n",
    "# least squares implementation spicy\n",
    "@njit\n",
    "def lstsq_spicy(x, y):\n",
    "    beta = np.linalg.lstsq(x, y)[0]    \n",
    "    return beta\n",
    "\n",
    "#pseudo inverse implementation spicy\n",
    "@njit\n",
    "def pseudo_inverse_spicy(x, y):\n",
    "    beta = np.dot(sl.pinv(x), y)\n",
    "    return beta\n",
    "\n",
    "# Solve a linear matrix equation, or system of linear scalar equations with spicy.\n",
    "# this is only valid if x has full rank which is not always the case.\n",
    "#@njit\n",
    "def solve_spicy(x,y):\n",
    "    beta = sl.solve(np.dot(x.T, x), np.dot(x.T, y))\n",
    "    return beta\n",
    "\n"
   ]
  },
  {
   "cell_type": "code",
   "execution_count": 58,
   "metadata": {},
   "outputs": [
    {
     "data": {
      "text/plain": [
       "(array([[ 6.53717255e-01, -2.86299195e+00,  4.49643557e-01, ...,\n",
       "         -8.03092092e-01,  1.81554710e+00,  9.34609956e-01],\n",
       "        [ 3.96684874e-02, -1.30676025e+00, -2.08085875e+00, ...,\n",
       "         -5.92928434e-01, -1.04328929e+00,  1.13565534e-01],\n",
       "        [ 4.43738703e-01, -2.87689834e+00,  2.16870842e-03, ...,\n",
       "          1.52404394e+00,  4.26721146e-01, -6.37186400e-01],\n",
       "        ...,\n",
       "        [ 8.77854741e-02,  7.21123808e-01, -1.84289771e-01, ...,\n",
       "          1.01052466e+00, -6.55915068e-01,  3.46075638e-02],\n",
       "        [ 9.76738329e-01,  1.91974900e-01, -7.52095211e-01, ...,\n",
       "         -1.78340734e+00,  4.41242680e-02, -1.56801849e+00],\n",
       "        [ 1.23997263e+00,  6.31279143e-01, -2.76662645e-01, ...,\n",
       "          2.76027227e+00, -1.66727037e+00, -3.12841244e-01]]),\n",
       " array([ 4.68705055e+01, -3.06675087e+02, -4.61400131e-01, ...,\n",
       "         3.90342302e+02,  6.28295735e+02, -5.80269603e+02]),\n",
       " array([12.89122851, 99.42609075, 39.69812146, 96.15839456, 13.16011288,\n",
       "        21.70198703, 69.90077722, 93.64787585, 32.57627339, 76.87538183,\n",
       "        67.17051949,  1.71173478,  8.29961497, 50.51727384, 30.8801197 ,\n",
       "        71.63775367,  2.70203845, 61.95242636, 88.2805731 , 30.39602829,\n",
       "        24.69770916, 23.34197033,  5.22653184, 61.66973706, 73.03757635,\n",
       "        49.22976901, 55.36097705, 79.62139063, 94.09166773,  4.82660582,\n",
       "        38.25696338, 40.11690131, 45.76783752, 76.49747149, 54.79452522,\n",
       "        77.66231386, 12.14354801, 25.80581079, 28.25936393, 50.8196175 ,\n",
       "        41.30377276, 64.13991716, 30.3279459 , 61.81667317, 53.20434887,\n",
       "        41.85279935, 55.85500872, 26.90955789, 89.08059596, 57.672932  ]))"
      ]
     },
     "execution_count": 58,
     "metadata": {},
     "output_type": "execute_result"
    }
   ],
   "source": [
    "a, b, coef = generate_data_ols(nobs, variables)\n",
    "a, b, coef"
   ]
  },
  {
   "cell_type": "code",
   "execution_count": 90,
   "metadata": {},
   "outputs": [
    {
     "name": "stdout",
     "output_type": "stream",
     "text": [
      "7.74 ms ± 240 µs per loop (mean ± std. dev. of 7 runs, 100 loops each)\n",
      "7.65 ms ± 349 µs per loop (mean ± std. dev. of 7 runs, 100 loops each)\n",
      "35.7 ms ± 1.25 ms per loop (mean ± std. dev. of 7 runs, 10 loops each)\n",
      "36 ms ± 1.28 ms per loop (mean ± std. dev. of 7 runs, 10 loops each)\n",
      "87.5 ms ± 6.58 ms per loop (mean ± std. dev. of 7 runs, 10 loops each)\n",
      "7.84 ms ± 297 µs per loop (mean ± std. dev. of 7 runs, 100 loops each)\n",
      "7.6 ms ± 309 µs per loop (mean ± std. dev. of 7 runs, 100 loops each)\n"
     ]
    },
    {
     "data": {
      "text/plain": [
       "0.007604577714285239"
      ]
     },
     "execution_count": 90,
     "metadata": {},
     "output_type": "execute_result"
    }
   ],
   "source": [
    "#timing the different implementations\n",
    "\n",
    "time_result = %timeit -o matrix_inversion_np(x,y)\n",
    "time_result = %timeit -o matrix_inversion_spicy(x,y)\n",
    "time_result = %timeit -o lstsq_np(x,y)\n",
    "time_result = %timeit -o lstsq_spicy(x,y)\n",
    "time_result = %timeit -o pseudo_inverse_np(x,y)\n",
    "##time_result = %timeit -o pseudo_inverse_spicy(x,y)\n",
    "time_result = %timeit -o solve_np(x,y)\n",
    "time_result = %timeit -o solve_spicy(x,y)\n",
    "#time_result = %timeit -o lls_with_blas(x,y)\n",
    "\n",
    "average_time = np.mean(time_result.timings)\n",
    "average_time"
   ]
  },
  {
   "cell_type": "code",
   "execution_count": 93,
   "metadata": {},
   "outputs": [
    {
     "data": {
      "text/plain": [
       "array([  300,   900,  1500,  2100,  2700,  3300,  3900,  4500,  5100,\n",
       "        5700,  6300,  6900,  7500,  8100,  8700,  9300,  9900, 10500,\n",
       "       11100, 11700, 12300, 12900, 13500, 14100, 14700, 15300, 15900,\n",
       "       16500, 17100, 17700, 18300, 18900, 19500])"
      ]
     },
     "execution_count": 93,
     "metadata": {},
     "output_type": "execute_result"
    }
   ],
   "source": [
    "a = np.arange(300,20000,600)\n",
    "a"
   ]
  }
 ],
 "metadata": {
  "kernelspec": {
   "display_name": "Python 3",
   "language": "python",
   "name": "python3"
  },
  "language_info": {
   "codemirror_mode": {
    "name": "ipython",
    "version": 3
   },
   "file_extension": ".py",
   "mimetype": "text/x-python",
   "name": "python",
   "nbconvert_exporter": "python",
   "pygments_lexer": "ipython3",
   "version": "3.7.0"
  }
 },
 "nbformat": 4,
 "nbformat_minor": 2
}
