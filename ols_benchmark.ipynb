{
 "cells": [
  {
   "cell_type": "code",
   "execution_count": 2,
   "metadata": {},
   "outputs": [
    {
     "ename": "ModuleNotFoundError",
     "evalue": "No module named 'snakeviz'",
     "output_type": "error",
     "traceback": [
      "\u001b[1;31m---------------------------------------------------------------------------\u001b[0m",
      "\u001b[1;31mModuleNotFoundError\u001b[0m                       Traceback (most recent call last)",
      "\u001b[1;32m<ipython-input-2-415496d5e56b>\u001b[0m in \u001b[0;36m<module>\u001b[1;34m\u001b[0m\n\u001b[0;32m      6\u001b[0m \u001b[1;32mfrom\u001b[0m \u001b[0mscipy\u001b[0m\u001b[1;33m.\u001b[0m\u001b[0mlinalg\u001b[0m\u001b[1;33m.\u001b[0m\u001b[0mblas\u001b[0m \u001b[1;32mimport\u001b[0m \u001b[0mdgemm\u001b[0m\u001b[1;33m\u001b[0m\u001b[1;33m\u001b[0m\u001b[0m\n\u001b[0;32m      7\u001b[0m \u001b[1;32mimport\u001b[0m \u001b[0mscipy\u001b[0m\u001b[1;33m.\u001b[0m\u001b[0mlinalg\u001b[0m \u001b[1;32mas\u001b[0m \u001b[0msl\u001b[0m\u001b[1;33m\u001b[0m\u001b[1;33m\u001b[0m\u001b[0m\n\u001b[1;32m----> 8\u001b[1;33m \u001b[0mget_ipython\u001b[0m\u001b[1;33m(\u001b[0m\u001b[1;33m)\u001b[0m\u001b[1;33m.\u001b[0m\u001b[0mrun_line_magic\u001b[0m\u001b[1;33m(\u001b[0m\u001b[1;34m'load_ext'\u001b[0m\u001b[1;33m,\u001b[0m \u001b[1;34m'snakeviz'\u001b[0m\u001b[1;33m)\u001b[0m\u001b[1;33m\u001b[0m\u001b[1;33m\u001b[0m\u001b[0m\n\u001b[0m",
      "\u001b[1;32m~\\Anaconda3\\lib\\site-packages\\IPython\\core\\interactiveshell.py\u001b[0m in \u001b[0;36mrun_line_magic\u001b[1;34m(self, magic_name, line, _stack_depth)\u001b[0m\n\u001b[0;32m   2285\u001b[0m                 \u001b[0mkwargs\u001b[0m\u001b[1;33m[\u001b[0m\u001b[1;34m'local_ns'\u001b[0m\u001b[1;33m]\u001b[0m \u001b[1;33m=\u001b[0m \u001b[0msys\u001b[0m\u001b[1;33m.\u001b[0m\u001b[0m_getframe\u001b[0m\u001b[1;33m(\u001b[0m\u001b[0mstack_depth\u001b[0m\u001b[1;33m)\u001b[0m\u001b[1;33m.\u001b[0m\u001b[0mf_locals\u001b[0m\u001b[1;33m\u001b[0m\u001b[1;33m\u001b[0m\u001b[0m\n\u001b[0;32m   2286\u001b[0m             \u001b[1;32mwith\u001b[0m \u001b[0mself\u001b[0m\u001b[1;33m.\u001b[0m\u001b[0mbuiltin_trap\u001b[0m\u001b[1;33m:\u001b[0m\u001b[1;33m\u001b[0m\u001b[1;33m\u001b[0m\u001b[0m\n\u001b[1;32m-> 2287\u001b[1;33m                 \u001b[0mresult\u001b[0m \u001b[1;33m=\u001b[0m \u001b[0mfn\u001b[0m\u001b[1;33m(\u001b[0m\u001b[1;33m*\u001b[0m\u001b[0margs\u001b[0m\u001b[1;33m,\u001b[0m\u001b[1;33m**\u001b[0m\u001b[0mkwargs\u001b[0m\u001b[1;33m)\u001b[0m\u001b[1;33m\u001b[0m\u001b[1;33m\u001b[0m\u001b[0m\n\u001b[0m\u001b[0;32m   2288\u001b[0m             \u001b[1;32mreturn\u001b[0m \u001b[0mresult\u001b[0m\u001b[1;33m\u001b[0m\u001b[1;33m\u001b[0m\u001b[0m\n\u001b[0;32m   2289\u001b[0m \u001b[1;33m\u001b[0m\u001b[0m\n",
      "\u001b[1;32m<decorator-gen-66>\u001b[0m in \u001b[0;36mload_ext\u001b[1;34m(self, module_str)\u001b[0m\n",
      "\u001b[1;32m~\\Anaconda3\\lib\\site-packages\\IPython\\core\\magic.py\u001b[0m in \u001b[0;36m<lambda>\u001b[1;34m(f, *a, **k)\u001b[0m\n\u001b[0;32m    185\u001b[0m     \u001b[1;31m# but it's overkill for just that one bit of state.\u001b[0m\u001b[1;33m\u001b[0m\u001b[1;33m\u001b[0m\u001b[1;33m\u001b[0m\u001b[0m\n\u001b[0;32m    186\u001b[0m     \u001b[1;32mdef\u001b[0m \u001b[0mmagic_deco\u001b[0m\u001b[1;33m(\u001b[0m\u001b[0marg\u001b[0m\u001b[1;33m)\u001b[0m\u001b[1;33m:\u001b[0m\u001b[1;33m\u001b[0m\u001b[1;33m\u001b[0m\u001b[0m\n\u001b[1;32m--> 187\u001b[1;33m         \u001b[0mcall\u001b[0m \u001b[1;33m=\u001b[0m \u001b[1;32mlambda\u001b[0m \u001b[0mf\u001b[0m\u001b[1;33m,\u001b[0m \u001b[1;33m*\u001b[0m\u001b[0ma\u001b[0m\u001b[1;33m,\u001b[0m \u001b[1;33m**\u001b[0m\u001b[0mk\u001b[0m\u001b[1;33m:\u001b[0m \u001b[0mf\u001b[0m\u001b[1;33m(\u001b[0m\u001b[1;33m*\u001b[0m\u001b[0ma\u001b[0m\u001b[1;33m,\u001b[0m \u001b[1;33m**\u001b[0m\u001b[0mk\u001b[0m\u001b[1;33m)\u001b[0m\u001b[1;33m\u001b[0m\u001b[1;33m\u001b[0m\u001b[0m\n\u001b[0m\u001b[0;32m    188\u001b[0m \u001b[1;33m\u001b[0m\u001b[0m\n\u001b[0;32m    189\u001b[0m         \u001b[1;32mif\u001b[0m \u001b[0mcallable\u001b[0m\u001b[1;33m(\u001b[0m\u001b[0marg\u001b[0m\u001b[1;33m)\u001b[0m\u001b[1;33m:\u001b[0m\u001b[1;33m\u001b[0m\u001b[1;33m\u001b[0m\u001b[0m\n",
      "\u001b[1;32m~\\Anaconda3\\lib\\site-packages\\IPython\\core\\magics\\extension.py\u001b[0m in \u001b[0;36mload_ext\u001b[1;34m(self, module_str)\u001b[0m\n\u001b[0;32m     31\u001b[0m         \u001b[1;32mif\u001b[0m \u001b[1;32mnot\u001b[0m \u001b[0mmodule_str\u001b[0m\u001b[1;33m:\u001b[0m\u001b[1;33m\u001b[0m\u001b[1;33m\u001b[0m\u001b[0m\n\u001b[0;32m     32\u001b[0m             \u001b[1;32mraise\u001b[0m \u001b[0mUsageError\u001b[0m\u001b[1;33m(\u001b[0m\u001b[1;34m'Missing module name.'\u001b[0m\u001b[1;33m)\u001b[0m\u001b[1;33m\u001b[0m\u001b[1;33m\u001b[0m\u001b[0m\n\u001b[1;32m---> 33\u001b[1;33m         \u001b[0mres\u001b[0m \u001b[1;33m=\u001b[0m \u001b[0mself\u001b[0m\u001b[1;33m.\u001b[0m\u001b[0mshell\u001b[0m\u001b[1;33m.\u001b[0m\u001b[0mextension_manager\u001b[0m\u001b[1;33m.\u001b[0m\u001b[0mload_extension\u001b[0m\u001b[1;33m(\u001b[0m\u001b[0mmodule_str\u001b[0m\u001b[1;33m)\u001b[0m\u001b[1;33m\u001b[0m\u001b[1;33m\u001b[0m\u001b[0m\n\u001b[0m\u001b[0;32m     34\u001b[0m \u001b[1;33m\u001b[0m\u001b[0m\n\u001b[0;32m     35\u001b[0m         \u001b[1;32mif\u001b[0m \u001b[0mres\u001b[0m \u001b[1;33m==\u001b[0m \u001b[1;34m'already loaded'\u001b[0m\u001b[1;33m:\u001b[0m\u001b[1;33m\u001b[0m\u001b[1;33m\u001b[0m\u001b[0m\n",
      "\u001b[1;32m~\\Anaconda3\\lib\\site-packages\\IPython\\core\\extensions.py\u001b[0m in \u001b[0;36mload_extension\u001b[1;34m(self, module_str)\u001b[0m\n\u001b[0;32m     78\u001b[0m             \u001b[1;32mif\u001b[0m \u001b[0mmodule_str\u001b[0m \u001b[1;32mnot\u001b[0m \u001b[1;32min\u001b[0m \u001b[0msys\u001b[0m\u001b[1;33m.\u001b[0m\u001b[0mmodules\u001b[0m\u001b[1;33m:\u001b[0m\u001b[1;33m\u001b[0m\u001b[1;33m\u001b[0m\u001b[0m\n\u001b[0;32m     79\u001b[0m                 \u001b[1;32mwith\u001b[0m \u001b[0mprepended_to_syspath\u001b[0m\u001b[1;33m(\u001b[0m\u001b[0mself\u001b[0m\u001b[1;33m.\u001b[0m\u001b[0mipython_extension_dir\u001b[0m\u001b[1;33m)\u001b[0m\u001b[1;33m:\u001b[0m\u001b[1;33m\u001b[0m\u001b[1;33m\u001b[0m\u001b[0m\n\u001b[1;32m---> 80\u001b[1;33m                     \u001b[0mmod\u001b[0m \u001b[1;33m=\u001b[0m \u001b[0mimport_module\u001b[0m\u001b[1;33m(\u001b[0m\u001b[0mmodule_str\u001b[0m\u001b[1;33m)\u001b[0m\u001b[1;33m\u001b[0m\u001b[1;33m\u001b[0m\u001b[0m\n\u001b[0m\u001b[0;32m     81\u001b[0m                     \u001b[1;32mif\u001b[0m \u001b[0mmod\u001b[0m\u001b[1;33m.\u001b[0m\u001b[0m__file__\u001b[0m\u001b[1;33m.\u001b[0m\u001b[0mstartswith\u001b[0m\u001b[1;33m(\u001b[0m\u001b[0mself\u001b[0m\u001b[1;33m.\u001b[0m\u001b[0mipython_extension_dir\u001b[0m\u001b[1;33m)\u001b[0m\u001b[1;33m:\u001b[0m\u001b[1;33m\u001b[0m\u001b[1;33m\u001b[0m\u001b[0m\n\u001b[0;32m     82\u001b[0m                         print((\"Loading extensions from {dir} is deprecated. \"\n",
      "\u001b[1;32m~\\Anaconda3\\lib\\importlib\\__init__.py\u001b[0m in \u001b[0;36mimport_module\u001b[1;34m(name, package)\u001b[0m\n\u001b[0;32m    125\u001b[0m                 \u001b[1;32mbreak\u001b[0m\u001b[1;33m\u001b[0m\u001b[1;33m\u001b[0m\u001b[0m\n\u001b[0;32m    126\u001b[0m             \u001b[0mlevel\u001b[0m \u001b[1;33m+=\u001b[0m \u001b[1;36m1\u001b[0m\u001b[1;33m\u001b[0m\u001b[1;33m\u001b[0m\u001b[0m\n\u001b[1;32m--> 127\u001b[1;33m     \u001b[1;32mreturn\u001b[0m \u001b[0m_bootstrap\u001b[0m\u001b[1;33m.\u001b[0m\u001b[0m_gcd_import\u001b[0m\u001b[1;33m(\u001b[0m\u001b[0mname\u001b[0m\u001b[1;33m[\u001b[0m\u001b[0mlevel\u001b[0m\u001b[1;33m:\u001b[0m\u001b[1;33m]\u001b[0m\u001b[1;33m,\u001b[0m \u001b[0mpackage\u001b[0m\u001b[1;33m,\u001b[0m \u001b[0mlevel\u001b[0m\u001b[1;33m)\u001b[0m\u001b[1;33m\u001b[0m\u001b[1;33m\u001b[0m\u001b[0m\n\u001b[0m\u001b[0;32m    128\u001b[0m \u001b[1;33m\u001b[0m\u001b[0m\n\u001b[0;32m    129\u001b[0m \u001b[1;33m\u001b[0m\u001b[0m\n",
      "\u001b[1;32m~\\Anaconda3\\lib\\importlib\\_bootstrap.py\u001b[0m in \u001b[0;36m_gcd_import\u001b[1;34m(name, package, level)\u001b[0m\n",
      "\u001b[1;32m~\\Anaconda3\\lib\\importlib\\_bootstrap.py\u001b[0m in \u001b[0;36m_find_and_load\u001b[1;34m(name, import_)\u001b[0m\n",
      "\u001b[1;32m~\\Anaconda3\\lib\\importlib\\_bootstrap.py\u001b[0m in \u001b[0;36m_find_and_load_unlocked\u001b[1;34m(name, import_)\u001b[0m\n",
      "\u001b[1;31mModuleNotFoundError\u001b[0m: No module named 'snakeviz'"
     ]
    }
   ],
   "source": [
    "import numpy as np\n",
    "import perfplot\n",
    "from numba import njit\n",
    "from sklearn.datasets import make_regression\n",
    "import pandas as pd\n",
    "from scipy.linalg.blas import dgemm\n",
    "import scipy.linalg as sl\n",
    "%load_ext snakeviz\n"
   ]
  },
  {
   "cell_type": "code",
   "execution_count": 5,
   "metadata": {},
   "outputs": [],
   "source": [
    "#2\n",
    "#generating data for ols\n",
    "#np.random.seed(25)\n",
    "variables = 50\n",
    "nobs = 20000\n",
    "\n",
    "\n",
    "#def generate_data_ols(nobs, variables):\n",
    "    \n",
    "#    means = np.ones(variables)\n",
    "#    cov = np.eye(variables) + np.ones((variables, variables)) * 0.2\n",
    "#    x = np.random.multivariate_normal(mean=means, cov=cov, size=nobs)\n",
    "#    e = np.random.randn(nobs)\n",
    "#    true_beta = np.random.uniform(-0.99, 0.99, variables)\n",
    "#    y = x @ true_beta + e\n",
    "\n",
    "#    return x, y\n",
    "\n",
    "def generate_data_ols(nobs, variables):\n",
    "    x, y, coef = make_regression(n_samples=nobs, n_features=variables, n_informative=variables, \n",
    "                    effective_rank=None, noise=0.4, shuffle=True, coef=True, random_state=25)\n",
    "    return x, y, coef\n",
    "\n",
    "#next steps\n",
    "#add more implementations using factorisation and spicy\n",
    "#go on to timing and the other assignment and come back to put everything together\n",
    "#after all is done fix the other problems\n",
    "\n"
   ]
  },
  {
   "cell_type": "code",
   "execution_count": 6,
   "metadata": {},
   "outputs": [
    {
     "data": {
      "text/plain": [
       "(array([[ 6.53717255e-01, -2.86299195e+00,  4.49643557e-01, ...,\n",
       "         -8.03092092e-01,  1.81554710e+00,  9.34609956e-01],\n",
       "        [ 3.96684874e-02, -1.30676025e+00, -2.08085875e+00, ...,\n",
       "         -5.92928434e-01, -1.04328929e+00,  1.13565534e-01],\n",
       "        [ 4.43738703e-01, -2.87689834e+00,  2.16870842e-03, ...,\n",
       "          1.52404394e+00,  4.26721146e-01, -6.37186400e-01],\n",
       "        ...,\n",
       "        [ 8.77854741e-02,  7.21123808e-01, -1.84289771e-01, ...,\n",
       "          1.01052466e+00, -6.55915068e-01,  3.46075638e-02],\n",
       "        [ 9.76738329e-01,  1.91974900e-01, -7.52095211e-01, ...,\n",
       "         -1.78340734e+00,  4.41242680e-02, -1.56801849e+00],\n",
       "        [ 1.23997263e+00,  6.31279143e-01, -2.76662645e-01, ...,\n",
       "          2.76027227e+00, -1.66727037e+00, -3.12841244e-01]]),\n",
       " array([ 4.68705055e+01, -3.06675087e+02, -4.61400131e-01, ...,\n",
       "         3.90342302e+02,  6.28295735e+02, -5.80269603e+02]),\n",
       " array([12.89122851, 99.42609075, 39.69812146, 96.15839456, 13.16011288,\n",
       "        21.70198703, 69.90077722, 93.64787585, 32.57627339, 76.87538183,\n",
       "        67.17051949,  1.71173478,  8.29961497, 50.51727384, 30.8801197 ,\n",
       "        71.63775367,  2.70203845, 61.95242636, 88.2805731 , 30.39602829,\n",
       "        24.69770916, 23.34197033,  5.22653184, 61.66973706, 73.03757635,\n",
       "        49.22976901, 55.36097705, 79.62139063, 94.09166773,  4.82660582,\n",
       "        38.25696338, 40.11690131, 45.76783752, 76.49747149, 54.79452522,\n",
       "        77.66231386, 12.14354801, 25.80581079, 28.25936393, 50.8196175 ,\n",
       "        41.30377276, 64.13991716, 30.3279459 , 61.81667317, 53.20434887,\n",
       "        41.85279935, 55.85500872, 26.90955789, 89.08059596, 57.672932  ]))"
      ]
     },
     "execution_count": 6,
     "metadata": {},
     "output_type": "execute_result"
    }
   ],
   "source": [
    "x, y, coef = generate_data_ols(nobs, variables)\n",
    "x, y, coef"
   ]
  },
  {
   "cell_type": "code",
   "execution_count": 11,
   "metadata": {},
   "outputs": [],
   "source": [
    "\n",
    "\n",
    "\"\"\"Define different implementations of OLS using numpy and numpy and spicy.\n",
    "\n",
    "Each implementation returns the estimated parameter vector.\n",
    "\n",
    "\"\"\"\n",
    "#---------numpy implementations---------------\n",
    "#mathematical implemantation numpy\n",
    "@njit\n",
    "def matrix_inversion_np(x, y):\n",
    "    beta = np.linalg.inv(x.T.dot(x)).dot(x.T.dot(y))\n",
    "    return beta\n",
    "\n",
    "# least squares implementation numpy\n",
    "@njit\n",
    "def lstsq_np(x, y):\n",
    "    beta = np.linalg.lstsq(x, y)[0]\n",
    "    return beta\n",
    "\n",
    "#pseudo inverse implementation numpy\n",
    "@njit\n",
    "def pseudo_inverse_np(x, y):\n",
    "    beta = np.dot(np.linalg.pinv(x), y)\n",
    "    return beta\n",
    "\n",
    "# Solve a linear matrix equation, or system of linear scalar equations with numpy.\n",
    "# this is only valid if x has full rank which is not always the case.\n",
    "@njit\n",
    "def solve_np(x,y):\n",
    "    beta = np.linalg.solve(np.dot(x.T, x), np.dot(x.T, y))\n",
    "    return beta\n",
    "\n",
    "def lls_with_blas(x, y, residuals=False):\n",
    "    \"\"\"\n",
    "    https://gist.github.com/aldro61/5889795\n",
    "    \"\"\"\n",
    "    #a, b, coef = generate_data_ols(nobs, variables) - a, b are x, y\n",
    "    i = dgemm(alpha=1.0, a=a.T, b=a.T, trans_b=True)\n",
    "    beta = np.linalg.solve(i, dgemm(alpha=1.0, a=a.T, b=b)).flatten()\n",
    "    return beta\n",
    "\n",
    "#---------spicy implementations----------------\n",
    "#matrix multiplication implementation spicy\n",
    "#@njit\n",
    "def matrix_inversion_spicy(x, y):\n",
    "    beta = sl.inv(x.T.dot(x)).dot(x.T.dot(y))\n",
    "    return beta\n",
    "\n",
    "# least squares implementation spicy\n",
    "@njit\n",
    "def lstsq_spicy(x, y):\n",
    "    beta = np.linalg.lstsq(x, y)[0]    \n",
    "    return beta\n",
    "\n",
    "#pseudo inverse implementation spicy\n",
    "#@njit\n",
    "def pseudo_inverse_spicy(x, y):\n",
    "    beta = np.dot(sl.pinv(x), y)\n",
    "    return beta\n",
    "\n",
    "# Solve a linear matrix equation, or system of linear scalar equations with spicy.\n",
    "# this is only valid if x has full rank which is not always the case.\n",
    "#@njit\n",
    "def solve_spicy(x,y):\n",
    "    beta = sl.solve(np.dot(x.T, x), np.dot(x.T, y))\n",
    "    return beta\n",
    "\n"
   ]
  },
  {
   "cell_type": "code",
   "execution_count": 12,
   "metadata": {},
   "outputs": [
    {
     "data": {
      "text/plain": [
       "(array([[ 6.53717255e-01, -2.86299195e+00,  4.49643557e-01, ...,\n",
       "         -8.03092092e-01,  1.81554710e+00,  9.34609956e-01],\n",
       "        [ 3.96684874e-02, -1.30676025e+00, -2.08085875e+00, ...,\n",
       "         -5.92928434e-01, -1.04328929e+00,  1.13565534e-01],\n",
       "        [ 4.43738703e-01, -2.87689834e+00,  2.16870842e-03, ...,\n",
       "          1.52404394e+00,  4.26721146e-01, -6.37186400e-01],\n",
       "        ...,\n",
       "        [ 8.77854741e-02,  7.21123808e-01, -1.84289771e-01, ...,\n",
       "          1.01052466e+00, -6.55915068e-01,  3.46075638e-02],\n",
       "        [ 9.76738329e-01,  1.91974900e-01, -7.52095211e-01, ...,\n",
       "         -1.78340734e+00,  4.41242680e-02, -1.56801849e+00],\n",
       "        [ 1.23997263e+00,  6.31279143e-01, -2.76662645e-01, ...,\n",
       "          2.76027227e+00, -1.66727037e+00, -3.12841244e-01]]),\n",
       " array([ 4.68705055e+01, -3.06675087e+02, -4.61400131e-01, ...,\n",
       "         3.90342302e+02,  6.28295735e+02, -5.80269603e+02]),\n",
       " array([12.89122851, 99.42609075, 39.69812146, 96.15839456, 13.16011288,\n",
       "        21.70198703, 69.90077722, 93.64787585, 32.57627339, 76.87538183,\n",
       "        67.17051949,  1.71173478,  8.29961497, 50.51727384, 30.8801197 ,\n",
       "        71.63775367,  2.70203845, 61.95242636, 88.2805731 , 30.39602829,\n",
       "        24.69770916, 23.34197033,  5.22653184, 61.66973706, 73.03757635,\n",
       "        49.22976901, 55.36097705, 79.62139063, 94.09166773,  4.82660582,\n",
       "        38.25696338, 40.11690131, 45.76783752, 76.49747149, 54.79452522,\n",
       "        77.66231386, 12.14354801, 25.80581079, 28.25936393, 50.8196175 ,\n",
       "        41.30377276, 64.13991716, 30.3279459 , 61.81667317, 53.20434887,\n",
       "        41.85279935, 55.85500872, 26.90955789, 89.08059596, 57.672932  ]))"
      ]
     },
     "execution_count": 12,
     "metadata": {},
     "output_type": "execute_result"
    }
   ],
   "source": [
    "a, b, coef = generate_data_ols(nobs, variables)\n",
    "a, b, coef"
   ]
  },
  {
   "cell_type": "code",
   "execution_count": 13,
   "metadata": {},
   "outputs": [
    {
     "name": "stdout",
     "output_type": "stream",
     "text": [
      "2.23 ms ± 184 µs per loop (mean ± std. dev. of 7 runs, 1 loop each)\n",
      "2.87 ms ± 303 µs per loop (mean ± std. dev. of 7 runs, 100 loops each)\n",
      "21 ms ± 2.03 ms per loop (mean ± std. dev. of 7 runs, 1 loop each)\n",
      "23.6 ms ± 2.29 ms per loop (mean ± std. dev. of 7 runs, 1 loop each)\n",
      "50.7 ms ± 3.47 ms per loop (mean ± std. dev. of 7 runs, 1 loop each)\n",
      "1min 21s ± 2.82 s per loop (mean ± std. dev. of 7 runs, 1 loop each)\n",
      "4.3 ms ± 640 µs per loop (mean ± std. dev. of 7 runs, 1 loop each)\n",
      "2.64 ms ± 220 µs per loop (mean ± std. dev. of 7 runs, 100 loops each)\n",
      "2.87 ms ± 293 µs per loop (mean ± std. dev. of 7 runs, 100 loops each)\n"
     ]
    },
    {
     "data": {
      "text/plain": [
       "0.002873941485714145"
      ]
     },
     "execution_count": 13,
     "metadata": {},
     "output_type": "execute_result"
    }
   ],
   "source": [
    "#timing the different implementations\n",
    "\n",
    "time_result = %timeit -o matrix_inversion_np(x,y)\n",
    "time_result = %timeit -o matrix_inversion_spicy(x,y)\n",
    "time_result = %timeit -o lstsq_np(x,y)\n",
    "time_result = %timeit -o lstsq_spicy(x,y)\n",
    "time_result = %timeit -o pseudo_inverse_np(x,y)\n",
    "time_result = %timeit -o pseudo_inverse_spicy(x,y)\n",
    "time_result = %timeit -o solve_np(x,y)\n",
    "time_result = %timeit -o solve_spicy(x,y)\n",
    "time_result = %timeit -o lls_with_blas(x,y)\n",
    "\n",
    "average_time = np.mean(time_result.timings)\n",
    "average_time"
   ]
  },
  {
   "cell_type": "code",
   "execution_count": 49,
   "metadata": {},
   "outputs": [
    {
     "ename": "SyntaxError",
     "evalue": "'return' outside function (<ipython-input-49-c927965af128>, line 24)",
     "output_type": "error",
     "traceback": [
      "\u001b[1;36m  File \u001b[1;32m\"<ipython-input-49-c927965af128>\"\u001b[1;36m, line \u001b[1;32m24\u001b[0m\n\u001b[1;33m    return pd.DataFrame(np.vstack([dataset_sizes.repeat(variable),\u001b[0m\n\u001b[1;37m    ^\u001b[0m\n\u001b[1;31mSyntaxError\u001b[0m\u001b[1;31m:\u001b[0m 'return' outside function\n"
     ]
    }
   ],
   "source": [
    "\n",
    "\n"
   ]
  },
  {
   "cell_type": "code",
   "execution_count": null,
   "metadata": {},
   "outputs": [],
   "source": []
  }
 ],
 "metadata": {
  "kernelspec": {
   "display_name": "Python 3",
   "language": "python",
   "name": "python3"
  },
  "language_info": {
   "codemirror_mode": {
    "name": "ipython",
    "version": 3
   },
   "file_extension": ".py",
   "mimetype": "text/x-python",
   "name": "python",
   "nbconvert_exporter": "python",
   "pygments_lexer": "ipython3",
   "version": "3.7.1"
  }
 },
 "nbformat": 4,
 "nbformat_minor": 2
}
